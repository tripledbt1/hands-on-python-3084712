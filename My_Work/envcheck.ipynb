{
 "cells": [
  {
   "cell_type": "code",
   "execution_count": 1,
   "id": "6848305e",
   "metadata": {},
   "outputs": [
    {
     "name": "stdout",
     "output_type": "stream",
     "text": [
      "🟢 Environment Info (Git-GitHub)"
     ]
    },
    {
     "name": "stdout",
     "output_type": "stream",
     "text": [
      "\n",
      "Date: 2025-10-30\n",
      "Time: 02:29:15\n",
      "Python version: 3.10.12\n",
      "Executable: /workspaces/hands-on-python-3084712/.venv/bin/python\n",
      "Working directory: /workspaces/hands-on-python-3084712\n",
      "===========================================\n",
      "\n",
      "NumPy version:      2.2.6\n",
      "Pandas version:     2.3.3\n",
      "Matplotlib version: 3.10.7\n",
      "Seaborn version:    0.13.2\n",
      "SciPy version:      1.15.3\n",
      "\n",
      "🚀 Codespace environment initialized successfully.\n"
     ]
    }
   ],
   "source": [
    "import os\n",
    "import sys\n",
    "import platform\n",
    "import datetime\n",
    "\n",
    "print(\"🟢 Environment Info (Git-GitHub)\")\n",
    "print(f\"Date: {datetime.date.today()}\")\n",
    "print(f\"Time: {datetime.datetime.now().strftime('%H:%M:%S')}\")\n",
    "print(f\"Python version: {platform.python_version()}\")\n",
    "print(f\"Executable: {sys.executable}\")\n",
    "print(f\"Working directory: {os.getcwd()}\")\n",
    "print(\"===========================================\\n\")\n",
    "\n",
    "# --- 📦 Core Python Libraries ---\n",
    "import numpy as np\n",
    "import pandas as pd\n",
    "import matplotlib.pyplot as plt\n",
    "import matplotlib as mpl  # <- add\n",
    "import seaborn as sns\n",
    "import random\n",
    "from random import randint, choice\n",
    "import scipy as sp  # <- add (top-level package)\n",
    "import scipy.stats as stats\n",
    "from importlib.metadata import version, PackageNotFoundError\n",
    "\n",
    "\n",
    "def pkg_ver(name: str) -> str:\n",
    "    try:\n",
    "        return version(name)\n",
    "    except PackageNotFoundError:\n",
    "        return \"unknown\"\n",
    "\n",
    "\n",
    "# --- ⚙️ Display & Visualization Settings ---\n",
    "sns.set_theme(style=\"whitegrid\", palette=\"muted\")\n",
    "plt.rcParams.update({\"figure.figsize\": (7, 4), \"figure.dpi\": 100})\n",
    "pd.set_option(\"display.max_columns\", 20)\n",
    "pd.set_option(\"display.width\", 1000)\n",
    "\n",
    "# --- 🧩 Version Checks & Reproducibility ---\n",
    "random.seed(42)\n",
    "np.random.seed(42)\n",
    "\n",
    "print(f\"NumPy version:      {np.__version__}\")\n",
    "print(f\"Pandas version:     {pd.__version__}\")\n",
    "print(f\"Matplotlib version: {mpl.__version__}\")  # <- use mpl\n",
    "print(f\"Seaborn version:    {pkg_ver('seaborn')}\")\n",
    "print(f\"SciPy version:      {sp.__version__}\")  # <- optional but correct\n",
    "\n",
    "print(\"\\n🚀 Codespace environment initialized successfully.\")"
   ]
  },
  {
   "cell_type": "code",
   "execution_count": null,
   "id": "945929ab",
   "metadata": {},
   "outputs": [],
   "source": []
  }
 ],
 "metadata": {
  "kernelspec": {
   "display_name": ".venv",
   "language": "python",
   "name": "python3"
  },
  "language_info": {
   "codemirror_mode": {
    "name": "ipython",
    "version": 3
   },
   "file_extension": ".py",
   "mimetype": "text/x-python",
   "name": "python",
   "nbconvert_exporter": "python",
   "pygments_lexer": "ipython3",
   "version": "3.10.12"
  }
 },
 "nbformat": 4,
 "nbformat_minor": 5
}
