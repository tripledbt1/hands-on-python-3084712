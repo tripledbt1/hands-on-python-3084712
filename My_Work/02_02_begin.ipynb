{
 "cells": [
  {
   "cell_type": "code",
   "execution_count": 17,
   "id": "9b571c25",
   "metadata": {},
   "outputs": [
    {
     "name": "stdout",
     "output_type": "stream",
     "text": [
      "Hello, World! Welcome to Python programming.\n",
      "Hello, John! This is an example of string manipulation in Python.\n",
      "Hello, John!\n",
      "Hello, John! This is an example of string manipulation in Python. Hello, John!\n"
     ]
    }
   ],
   "source": [
    "# ------------------------------------------\n",
    "# 🐍 Python Example: String Variables & Concatenation\n",
    "# Demonstrates basic string creation, concatenation, and f-strings\n",
    "# ------------------------------------------\n",
    "\n",
    "# Define a string variable (text enclosed in quotes)\n",
    "greeting = \"Hello, World!\"\n",
    "\n",
    "# Combine (concatenate) two strings using the '+' operator\n",
    "extended_greeting = greeting + \" Welcome to Python programming.\"\n",
    "\n",
    "# Display the combined string in the console\n",
    "print(extended_greeting)\n",
    "\n",
    "# Define another string variable to store a person's name\n",
    "name = \"John\"\n",
    "\n",
    "# Use an f-string to insert the 'name' variable inside a sentence\n",
    "# The 'f' before the string enables embedded expressions in curly braces {}\n",
    "introduction = f\"Hello, {name}! This is an example of string manipulation in Python.\"\n",
    "\n",
    "# Print the formatted string to the console\n",
    "print(introduction)\n",
    "\n",
    "# ------------------------------------------\n",
    "# 💬 Older Method: Using .format() for String Formatting\n",
    "# ------------------------------------------\n",
    "\n",
    "# The curly braces {} act as placeholders for values you’ll insert.\n",
    "# .format(name) replaces the {} with the value stored in 'name'.\n",
    "greet_format = \"Hello, {}!\".format(name)\n",
    "\n",
    "# Show the formatted text on the screen.\n",
    "# This will print \"Hello, John!\"\n",
    "print(greet_format)\n",
    "\n",
    "# ------------------------------------------\n",
    "# 🖨️ Displaying Multiple Strings Together\n",
    "# ------------------------------------------\n",
    "\n",
    "# You can print more than one variable in the same print statement.\n",
    "# Python automatically adds a space between them.\n",
    "# The result shows both messages on one line.\n",
    "print(introduction, greet_format)"
   ]
  }
 ],
 "metadata": {
  "kernelspec": {
   "display_name": ".venv",
   "language": "python",
   "name": "python3"
  },
  "language_info": {
   "codemirror_mode": {
    "name": "ipython",
    "version": 3
   },
   "file_extension": ".py",
   "mimetype": "text/x-python",
   "name": "python",
   "nbconvert_exporter": "python",
   "pygments_lexer": "ipython3",
   "version": "3.10.12"
  }
 },
 "nbformat": 4,
 "nbformat_minor": 5
}
