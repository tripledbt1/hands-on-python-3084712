{
 "cells": [
  {
   "cell_type": "code",
   "execution_count": 1,
   "id": "81e8cf94",
   "metadata": {},
   "outputs": [
    {
     "name": "stdout",
     "output_type": "stream",
     "text": [
      "🟢 Environment Info (BASE Sandbox)\n",
      "Date: 2025-10-26\n",
      "Python version: 3.10.12\n",
      "Executable: /workspaces/hands-on-python-3084712/.venv/bin/python\n",
      "Working directory: /workspaces/hands-on-python-3084712/My_Work\n",
      "===========================================\n",
      "\n",
      "✅ Core libraries imported and ready for exploration.\n"
     ]
    }
   ],
   "source": [
    "# ============================================\n",
    "# 🧪 Python Sandbox Notebook – BASE Environment\n",
    "# Author: Dawn Triplett\n",
    "# Environment: BASE (Anaconda / Jupyter)\n",
    "# Created: YYYY-MM-DD\n",
    "# Purpose: Sandbox for testing Python concepts and practicing code\n",
    "# ============================================\n",
    "\n",
    "# --- 💻 Environment & System Setup ---\n",
    "import os\n",
    "import sys\n",
    "import platform\n",
    "import datetime\n",
    "\n",
    "print(\"🟢 Environment Info (BASE Sandbox)\")\n",
    "print(f\"Date: {datetime.date.today()}\")\n",
    "print(f\"Python version: {platform.python_version()}\")\n",
    "print(f\"Executable: {sys.executable}\")\n",
    "print(f\"Working directory: {os.getcwd()}\")\n",
    "print(\"===========================================\\n\")\n",
    "\n",
    "# --- 📦 Core Python Libraries ---\n",
    "import numpy as np\n",
    "import pandas as pd\n",
    "import matplotlib.pyplot as plt\n",
    "import seaborn as sns\n",
    "import random\n",
    "from random import randint, choice\n",
    "import scipy.stats as stats\n",
    "\n",
    "# --- ⚙️ Display & Visualization Settings ---\n",
    "sns.set_theme(style=\"whitegrid\", palette=\"muted\")\n",
    "plt.rcParams.update({\"figure.figsize\": (7, 4), \"figure.dpi\": 100})\n",
    "pd.set_option(\"display.max_columns\", 20)\n",
    "pd.set_option(\"display.width\", 1000)\n",
    "\n",
    "print(\"✅ Core libraries imported and ready for exploration.\")\n"
   ]
  }
 ],
 "metadata": {
  "kernelspec": {
   "display_name": ".venv",
   "language": "python",
   "name": "python3"
  },
  "language_info": {
   "codemirror_mode": {
    "name": "ipython",
    "version": 3
   },
   "file_extension": ".py",
   "mimetype": "text/x-python",
   "name": "python",
   "nbconvert_exporter": "python",
   "pygments_lexer": "ipython3",
   "version": "3.10.12"
  }
 },
 "nbformat": 4,
 "nbformat_minor": 5
}
