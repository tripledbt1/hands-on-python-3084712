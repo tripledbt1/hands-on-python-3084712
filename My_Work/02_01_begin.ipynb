{
 "cells": [
  {
   "cell_type": "code",
   "execution_count": null,
   "id": "372f8d16",
   "metadata": {},
   "outputs": [
    {
     "name": "stdout",
     "output_type": "stream",
     "text": [
      "running indented\n"
     ]
    }
   ],
   "source": [
    "RUN_UNINDENTED = False  # Variable to control indentation\n",
    "\n",
    "message = \"running unindented\"  # Default message, if True, will remain unindented\n",
    "\n",
    "if RUN_INDENTED:\n",
    "    message = \"running indented\" # Indented message\n",
    "\n",
    "print(message)  # Print the message\n"
   ]
  },
  {
   "cell_type": "code",
   "execution_count": null,
   "id": "a6f4933d",
   "metadata": {},
   "outputs": [
    {
     "name": "stdout",
     "output_type": "stream",
     "text": [
      "Hello\n"
     ]
    }
   ],
   "source": [
    "def my_function():  # Example function\n",
    "    greeting = \"Hello\"  # Defines a greeting message\n",
    "    return greeting  # Returns the greeting message\n",
    "\n",
    "print(my_function())  # Call the function and print the result"
   ]
  },
  {
   "cell_type": "code",
   "execution_count": 16,
   "id": "102eb729",
   "metadata": {},
   "outputs": [
    {
     "name": "stdout",
     "output_type": "stream",
     "text": [
      "Hello, World!\n",
      "Hello, Dawn!\n"
     ]
    }
   ],
   "source": [
    "# ----------------------------\n",
    "# 🧠 Example: Simple Function with Parameters\n",
    "# Purpose: Demonstrate how to define and call a function properly\n",
    "# ----------------------------\n",
    "\n",
    "\n",
    "def my_function(name=\"World\"):\n",
    "    \"\"\"\n",
    "    Returns a personalized greeting.\n",
    "\n",
    "    Parameters:\n",
    "        name (str): The name of the person to greet. Defaults to 'World'.\n",
    "\n",
    "    Returns:\n",
    "        str: A greeting message.\n",
    "    \"\"\"\n",
    "    greeting = f\"Hello, {name}!\"  # Use f-string for clean string formatting\n",
    "    return greeting  # Return the greeting message\n",
    "\n",
    "\n",
    "# 🧩 Function Call Examples\n",
    "print(my_function())  # Output: Hello, World!\n",
    "print(my_function(\"Dawn\"))  # Output: Hello, Dawn!"
   ]
  }
 ],
 "metadata": {
  "kernelspec": {
   "display_name": ".venv",
   "language": "python",
   "name": "python3"
  },
  "language_info": {
   "codemirror_mode": {
    "name": "ipython",
    "version": 3
   },
   "file_extension": ".py",
   "mimetype": "text/x-python",
   "name": "python",
   "nbconvert_exporter": "python",
   "pygments_lexer": "ipython3",
   "version": "3.10.12"
  }
 },
 "nbformat": 4,
 "nbformat_minor": 5
}
